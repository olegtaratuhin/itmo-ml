{
 "cells": [
  {
   "cell_type": "markdown",
   "metadata": {
    "collapsed": true,
    "pycharm": {
     "name": "#%% md\n"
    }
   },
   "source": [
    "# Task 1"
   ]
  },
  {
   "cell_type": "markdown",
   "metadata": {
    "pycharm": {
     "name": "#%% md\n"
    }
   },
   "source": [
    "**Description**\n",
    "\n",
    "* Implement SGD\n",
    "* Implement Adam\n",
    "\n",
    "Although task requires to define any function $R^2 \\rightarrow R$. Implementing SGD really requires that gradient computation can be done on some portion of the data available, this makes optimizing analytical functions cumbersome, so instead we will use toy XOR problem and make classification"
   ]
  },
  {
   "cell_type": "code",
   "execution_count": 1,
   "metadata": {
    "pycharm": {
     "name": "#%%\n"
    }
   },
   "outputs": [],
   "source": [
    "import numpy as np\n",
    "import abc\n",
    "from matplotlib import pyplot as plt"
   ]
  },
  {
   "cell_type": "markdown",
   "metadata": {
    "pycharm": {
     "name": "#%% md\n"
    }
   },
   "source": [
    "**Fix random seed for reproducibility**"
   ]
  },
  {
   "cell_type": "code",
   "execution_count": 2,
   "metadata": {},
   "outputs": [],
   "source": [
    "np.random.seed(0)"
   ]
  },
  {
   "cell_type": "markdown",
   "metadata": {},
   "source": [
    "**Data generation**"
   ]
  },
  {
   "cell_type": "code",
   "execution_count": 3,
   "metadata": {
    "pycharm": {
     "name": "#%%\n"
    }
   },
   "outputs": [],
   "source": [
    "def generate_data_xor(size: int = 10_000, spread: float = 10.0) -> (np.array, np.array):\n",
    "    assert(size >= 4)\n",
    "    blob_size = int(size / 4)\n",
    "\n",
    "    positive_labels = np.ones((1, blob_size)).ravel()\n",
    "    negative_labels = -positive_labels\n",
    "\n",
    "    up = np.stack([np.array([0, spread]) for _ in range(blob_size)], axis=0)\n",
    "    right = np.stack([np.array([spread, 0]) for _ in range(blob_size)], axis=0)\n",
    "    left = np.stack([np.array([-spread, 0]) for _ in range(blob_size)], axis=0)\n",
    "    down = np.stack([np.array([0, -spread]) for _ in range(blob_size)], axis=0)\n",
    "\n",
    "    data = np.concatenate((\n",
    "        np.c_[ np.random.rand(blob_size, 2) + up + left, positive_labels ], \n",
    "        np.c_[ np.random.rand(blob_size, 2) + up + right, negative_labels ], \n",
    "        np.c_[ np.random.rand(blob_size, 2) + down + right, positive_labels ], \n",
    "        np.c_[ np.random.rand(blob_size, 2) + down + left, negative_labels ]\n",
    "    ), axis=0)\n",
    "    np.random.shuffle(data)\n",
    "    return data[:, 0:-1], data[:, -1].astype(np.int32)"
   ]
  },
  {
   "cell_type": "markdown",
   "metadata": {},
   "source": [
    "**Helper function to draw dataset**"
   ]
  },
  {
   "cell_type": "code",
   "execution_count": 4,
   "metadata": {
    "pycharm": {
     "name": "#%%\n"
    }
   },
   "outputs": [
    {
     "data": {
      "image/png": "[encoded data removed]",
      "text/plain": [
       "<Figure size 432x288 with 1 Axes>"
      ]
     },
     "metadata": {
      "needs_background": "light"
     },
     "output_type": "display_data"
    }
   ],
   "source": [
    "def plot_data(X, y):\n",
    "    data = np.c_[X, y]\n",
    "    positive = data[data[:, -1] == 1][:, 0:-1]\n",
    "    negative = data[data[:, -1] == -1][:, 0:-1]\n",
    "    \n",
    "    plt.scatter(positive[:, 0], positive[:, 1], c=\"r\", label=\"positive\")\n",
    "    plt.scatter(negative[:, 0], negative[:, 1], c=\"b\", label=\"negative\")\n",
    "    plt.legend()\n",
    "    \n",
    "plot_data(*generate_data_xor(size=500, spread=0.6))"
   ]
  },
  {
   "cell_type": "markdown",
   "metadata": {
    "pycharm": {
     "name": "#%% md\n"
    }
   },
   "source": [
    "**Really verbose but understandable simple helpers and interfaces**"
   ]
  },
  {
   "cell_type": "markdown",
   "metadata": {
    "pycharm": {
     "name": "#%% md\n"
    }
   },
   "source": [
    "**Data class to hold training meta information**"
   ]
  },
  {
   "cell_type": "code",
   "execution_count": 5,
   "metadata": {
    "pycharm": {
     "name": "#%%\n"
    }
   },
   "outputs": [],
   "source": [
    "class History:\n",
    "    __slots__ = \"path\", \"loss\"\n",
    "    def __init__(self, path: [np.array], loss: np.array):\n",
    "        self.path = path\n",
    "        self.loss = loss"
   ]
  },
  {
   "cell_type": "markdown",
   "metadata": {
    "pycharm": {
     "name": "#%% md\n"
    }
   },
   "source": [
    "**Loss function**"
   ]
  },
  {
   "cell_type": "code",
   "execution_count": 6,
   "metadata": {
    "pycharm": {
     "name": "#%%\n"
    }
   },
   "outputs": [],
   "source": [
    "def softmax(predictions):\n",
    "    single = predictions.ndim == 1\n",
    "    if single:\n",
    "        predictions = predictions.reshape(1, predictions.shape[0])\n",
    "\n",
    "    # trick for computational stability\n",
    "    predictions_ts = predictions - np.amax(predictions, axis=1).reshape(predictions.shape[0], 1)\n",
    "\n",
    "    predictions_exp = np.exp(predictions_ts)\n",
    "    sums = np.sum(predictions_exp, axis=1).reshape(predictions_exp.shape[0], 1)\n",
    "    result = predictions_exp / sums\n",
    "\n",
    "    if single:\n",
    "        result = result.reshape(result.size)\n",
    "\n",
    "    return result\n",
    "\n",
    "def cross_entropy_loss(probs, target_index):\n",
    "    if probs.ndim == 1:\n",
    "        probs = probs.reshape(1, probs.shape[0])\n",
    "        target_index = np.array([target_index])\n",
    "\n",
    "    rows = np.arange(target_index.shape[0])\n",
    "    cols = target_index\n",
    "\n",
    "    return np.mean(-np.log(probs[rows, cols.astype(np.int32)]))\n",
    "\n",
    "def softmax_with_cross_entropy(predictions, target_index):\n",
    "    single = predictions.ndim == 1\n",
    "    if single:\n",
    "        predictions = predictions.reshape(1, predictions.shape[0])\n",
    "        target_index = np.array([target_index])\n",
    "\n",
    "    probs = softmax(predictions)\n",
    "    loss = cross_entropy_loss(probs, target_index)\n",
    "\n",
    "    indicator = np.zeros(probs.shape)\n",
    "    indicator[np.arange(probs.shape[0]), target_index] = 1\n",
    "    dprediction = (probs - indicator) / predictions.shape[0]\n",
    "\n",
    "    if single:\n",
    "        dprediction = dprediction.reshape(dprediction.size)\n",
    "\n",
    "    return loss, dprediction\n",
    "\n",
    "class DifferentiableFunction(abc.ABC):\n",
    "    @abc.abstractmethod\n",
    "    def __call__(self, x: np.array, w: np.array, batch_idx: np.array) -> (np.array, np.array):\n",
    "        pass\n",
    "\n",
    "class SoftmaxLoss(DifferentiableFunction):\n",
    "    # noinspection PyMethodOverriding\n",
    "    def __call__(self, x: np.array, w: np.array, batch_idx: np.array) -> (np.array, np.array):\n",
    "        predictions = np.dot(x, w)\n",
    "        loss, dpredictions = softmax_with_cross_entropy(predictions, batch_idx)\n",
    "        dW = np.dot(dpredictions.T, x).T\n",
    "        return loss, dW"
   ]
  },
  {
   "cell_type": "markdown",
   "metadata": {
    "pycharm": {
     "name": "#%% md\n"
    }
   },
   "source": [
    "**Learning rate schedulers**"
   ]
  },
  {
   "cell_type": "code",
   "execution_count": 7,
   "metadata": {
    "pycharm": {
     "name": "#%%\n"
    }
   },
   "outputs": [],
   "source": [
    "class LearningRateScheduler(abc.ABC):\n",
    "    @abc.abstractmethod\n",
    "    def get(self, iteration: int = None, loss: int = None) -> float:\n",
    "        pass\n",
    "\n",
    "class ConstantLearningRate(LearningRateScheduler):\n",
    "    def __init__(self, lr: float = 1e-7):\n",
    "        self.lr = lr\n",
    "\n",
    "    def get(self, iteration: int = None, loss: int = None) -> float:\n",
    "        return self.lr"
   ]
  },
  {
   "cell_type": "markdown",
   "metadata": {},
   "source": [
    "**Optimizers (the fun part)**"
   ]
  },
  {
   "cell_type": "code",
   "execution_count": 8,
   "metadata": {
    "pycharm": {
     "name": "#%%\n"
    }
   },
   "outputs": [],
   "source": [
    "class Optimizer(abc.ABC):\n",
    "    @abc.abstractmethod\n",
    "    def step(self, parameters, gradient):\n",
    "        pass\n",
    "\n",
    "    @abc.abstractmethod\n",
    "    def get_batch_size(self):\n",
    "        pass"
   ]
  },
  {
   "cell_type": "markdown",
   "metadata": {},
   "source": [
    "## SGD"
   ]
  },
  {
   "cell_type": "code",
   "execution_count": 9,
   "metadata": {},
   "outputs": [],
   "source": [
    "class SGD(Optimizer):\n",
    "\n",
    "    def __init__(self,\n",
    "                 batch_size: int = 16,\n",
    "                 lr: LearningRateScheduler = ConstantLearningRate()):\n",
    "        self.batch_size = batch_size\n",
    "        self.lr = lr\n",
    "\n",
    "    def step(self, parameters, gradient):\n",
    "        delta = self.lr.get() * gradient\n",
    "        return delta\n",
    "\n",
    "    def get_batch_size(self) -> int:\n",
    "        return self.batch_size"
   ]
  },
  {
   "cell_type": "markdown",
   "metadata": {},
   "source": [
    "## Adam"
   ]
  },
  {
   "cell_type": "code",
   "execution_count": 10,
   "metadata": {},
   "outputs": [],
   "source": [
    "class Adam(Optimizer):\n",
    "\n",
    "    def __init__(self,\n",
    "                 batch_size: int = 16,\n",
    "                 beta1: float = 0.9,\n",
    "                 beta2: float = 0.999,\n",
    "                 eps: float = 1e-7,\n",
    "                 lr: LearningRateScheduler = ConstantLearningRate()):\n",
    "        self.batch_size: int = batch_size\n",
    "        self.beta1: float = beta1\n",
    "        self.beta2: float = beta2\n",
    "        self.eps: float = eps\n",
    "        self.lr: LearningRateScheduler = lr\n",
    "        self.cache: dict = {\n",
    "            \"t\": -1,\n",
    "            \"mean\": None,\n",
    "            \"var\": None,\n",
    "        }\n",
    "    \n",
    "    def get_batch_size(self) -> int:\n",
    "        return self.batch_size\n",
    "\n",
    "    def step(self, parameters, gradient):\n",
    "        if self.cache[\"t\"] == -1:\n",
    "            self.cache = {\n",
    "                \"t\": 0,\n",
    "                \"mean\": np.zeros_like(parameters),\n",
    "                \"variance\": np.zeros_like(parameters)\n",
    "            }\n",
    "\n",
    "        t = self.cache[\"t\"] + 1\n",
    "        mean = self.cache[\"mean\"]\n",
    "        variance = self.cache[\"variance\"]\n",
    "\n",
    "        self.cache[\"t\"] = t\n",
    "        self.cache[\"mean\"] = self.beta1 * mean + (1 - self.beta1) * gradient\n",
    "        self.cache[\"variance\"] = self.beta2 * variance + (1 - self.beta2) * gradient ** 2\n",
    "        \n",
    "        v_hat = self.cache[\"variance\"] / (1. - (self.beta2 ** t))\n",
    "        m_hat = self.cache[\"mean\"] / (1. - (self.beta1 ** t))\n",
    "        \n",
    "        update = self.lr.get(iteration=t) * m_hat / (np.sqrt(v_hat) + self.eps)\n",
    "        return update"
   ]
  },
  {
   "cell_type": "markdown",
   "metadata": {},
   "source": [
    "## Tests"
   ]
  },
  {
   "cell_type": "code",
   "execution_count": 11,
   "metadata": {},
   "outputs": [],
   "source": [
    "class LinearClassificationModel:\n",
    "\n",
    "    def __init__(self):\n",
    "        self.W = None\n",
    "\n",
    "    def init_weights(self, W):\n",
    "        self.W = W\n",
    "\n",
    "    def fit(self, X, y, optimizer: Optimizer, loss_fn: DifferentiableFunction, epochs=1, verbose=10) -> History:\n",
    "        num_samples_train = X.shape[0]\n",
    "        num_features = X.shape[1]\n",
    "        num_classes = len(np.unique(y))\n",
    "\n",
    "        if self.W is None:\n",
    "            self.init_weights(W = 0.001 * np.random.randn(num_features, 2))\n",
    "\n",
    "        history_loss = []\n",
    "        history_parameters = []\n",
    "\n",
    "        for epoch in range(epochs):\n",
    "            shuffled_idx = np.arange(num_samples_train)\n",
    "            np.random.shuffle(shuffled_idx)\n",
    "\n",
    "            batch_size = optimizer.get_batch_size()\n",
    "            sections = np.arange(batch_size, num_samples_train, batch_size)\n",
    "            batches_idx = np.array_split(shuffled_idx, sections)\n",
    "            \n",
    "            loss_epoch = 0\n",
    "            batches = 0\n",
    "            for batch_idx in batches_idx:\n",
    "                X_batch = X[batch_idx, :]\n",
    "                y_batch = y[batch_idx]\n",
    "\n",
    "                loss, grad = loss_fn(X_batch, self.W, y_batch)\n",
    "\n",
    "                # modifies parameters in-place\n",
    "                self.W -= optimizer.step(self.W, gradient=grad)\n",
    "                \n",
    "                loss_epoch += loss\n",
    "                batches += 1\n",
    "            \n",
    "            loss_epoch = loss_epoch / batches\n",
    "            history_loss.append(loss_epoch)\n",
    "            history_parameters.append(self.W)\n",
    "            \n",
    "            if epoch % verbose == 0:\n",
    "                print(f\"Current epoch: \\t {epoch}, \\t loss: {loss_epoch}\")\n",
    "\n",
    "        return History(path=history_parameters, loss=history_loss)\n",
    "\n",
    "    def predict(self, X):\n",
    "        y_pred = np.dot(X, self.W)\n",
    "        probabilities = softmax(y_pred)\n",
    "        return np.argmax(probabilities, axis=-1)"
   ]
  },
  {
   "cell_type": "markdown",
   "metadata": {},
   "source": [
    "**Generate data for classification task**"
   ]
  },
  {
   "cell_type": "code",
   "execution_count": 12,
   "metadata": {
    "pycharm": {
     "name": "#%%\n"
    },
    "scrolled": true
   },
   "outputs": [
    {
     "data": {
      "image/png": "[encoded data removed]",
      "text/plain": [
       "<Figure size 432x288 with 1 Axes>"
      ]
     },
     "metadata": {
      "needs_background": "light"
     },
     "output_type": "display_data"
    }
   ],
   "source": [
    "X, y = generate_data_xor(size=1500, spread=0.43)\n",
    "\n",
    "plot_data(X, y)"
   ]
  },
  {
   "cell_type": "markdown",
   "metadata": {},
   "source": [
    "**Training with SDG optmizer**"
   ]
  },
  {
   "cell_type": "code",
   "execution_count": 13,
   "metadata": {
    "scrolled": true
   },
   "outputs": [
    {
     "name": "stdout",
     "output_type": "stream",
     "text": [
      "Current epoch: \t 0, \t loss: 0.692314951504052\n",
      "Current epoch: \t 10, \t loss: 0.680557912073484\n",
      "Current epoch: \t 20, \t loss: 0.6692117330757366\n",
      "Current epoch: \t 30, \t loss: 0.6582967470770115\n",
      "Current epoch: \t 40, \t loss: 0.6477300339614158\n",
      "Current epoch: \t 50, \t loss: 0.6375529040396726\n",
      "Current epoch: \t 60, \t loss: 0.6277980186059853\n",
      "Current epoch: \t 70, \t loss: 0.6183791263783222\n",
      "Current epoch: \t 80, \t loss: 0.609243436536217\n",
      "Current epoch: \t 90, \t loss: 0.6003843491321469\n",
      "Current epoch: \t 100, \t loss: 0.5919519849542982\n",
      "Current epoch: \t 110, \t loss: 0.5837575746653291\n",
      "Current epoch: \t 120, \t loss: 0.5759181129922075\n",
      "Current epoch: \t 130, \t loss: 0.5682986096344385\n",
      "Current epoch: \t 140, \t loss: 0.5608747617466027\n",
      "Current epoch: \t 150, \t loss: 0.5536982793671308\n",
      "Current epoch: \t 160, \t loss: 0.5469004264998016\n",
      "Current epoch: \t 170, \t loss: 0.5402100423193382\n",
      "Current epoch: \t 180, \t loss: 0.5337043281443842\n",
      "Current epoch: \t 190, \t loss: 0.5275369389920178\n"
     ]
    }
   ],
   "source": [
    "model = LinearClassificationModel()\n",
    "\n",
    "optmizer = SGD(lr = ConstantLearningRate(0.00005))\n",
    "\n",
    "sgd_history = model.fit(X, y, optimizer = optmizer, loss_fn = SoftmaxLoss(), epochs = 200)"
   ]
  },
  {
   "cell_type": "code",
   "execution_count": 14,
   "metadata": {
    "scrolled": true
   },
   "outputs": [
    {
     "data": {
      "image/png": "[encoded data removed]",
      "text/plain": [
       "<Figure size 432x288 with 1 Axes>"
      ]
     },
     "metadata": {
      "needs_background": "light"
     },
     "output_type": "display_data"
    }
   ],
   "source": [
    "plt.plot(sgd_history.loss);"
   ]
  },
  {
   "cell_type": "markdown",
   "metadata": {},
   "source": [
    "**Training with Adam**"
   ]
  },
  {
   "cell_type": "code",
   "execution_count": 15,
   "metadata": {
    "scrolled": false
   },
   "outputs": [
    {
     "name": "stdout",
     "output_type": "stream",
     "text": [
      "Current epoch: \t 0, \t loss: 0.6906001971005317\n",
      "Current epoch: \t 10, \t loss: 0.647070165122368\n",
      "Current epoch: \t 20, \t loss: 0.6076174210848352\n",
      "Current epoch: \t 30, \t loss: 0.5716834197521771\n",
      "Current epoch: \t 40, \t loss: 0.5389728595487068\n",
      "Current epoch: \t 50, \t loss: 0.509002824188397\n",
      "Current epoch: \t 60, \t loss: 0.4817107141738489\n",
      "Current epoch: \t 70, \t loss: 0.456500941785999\n",
      "Current epoch: \t 80, \t loss: 0.433639847918873\n",
      "Current epoch: \t 90, \t loss: 0.41245462258992643\n",
      "Current epoch: \t 100, \t loss: 0.3933619694070514\n",
      "Current epoch: \t 110, \t loss: 0.3759558519438218\n",
      "Current epoch: \t 120, \t loss: 0.36010518024963756\n",
      "Current epoch: \t 130, \t loss: 0.34528779361095874\n",
      "Current epoch: \t 140, \t loss: 0.33149473335959545\n",
      "Current epoch: \t 150, \t loss: 0.31947981799200204\n",
      "Current epoch: \t 160, \t loss: 0.3084552579248936\n",
      "Current epoch: \t 170, \t loss: 0.29815995325228195\n",
      "Current epoch: \t 180, \t loss: 0.28922369571927053\n",
      "Current epoch: \t 190, \t loss: 0.28028345585958264\n"
     ]
    }
   ],
   "source": [
    "model = LinearClassificationModel()\n",
    "\n",
    "optmizer = Adam(lr = ConstantLearningRate(0.00005))\n",
    "\n",
    "adam_history = model.fit(X, y, optimizer = optmizer, loss_fn = SoftmaxLoss(), epochs = 200)"
   ]
  },
  {
   "cell_type": "code",
   "execution_count": 16,
   "metadata": {
    "scrolled": true
   },
   "outputs": [
    {
     "data": {
      "image/png": "[encoded data removed]",
      "text/plain": [
       "<Figure size 432x288 with 1 Axes>"
      ]
     },
     "metadata": {
      "needs_background": "light"
     },
     "output_type": "display_data"
    }
   ],
   "source": [
    "plt.plot(adam_history.loss);"
   ]
  },
  {
   "cell_type": "markdown",
   "metadata": {},
   "source": [
    "Seems like Adam is doing better with this model on this training data"
   ]
  },
  {
   "cell_type": "markdown",
   "metadata": {},
   "source": [
    "# Task 2\n",
    "\n",
    "**Description**\n",
    "\n",
    "Come up with a function of two variables of an arbitrary form and implement searcg for it's extremum using implemented optimizers"
   ]
  },
  {
   "cell_type": "code",
   "execution_count": 17,
   "metadata": {},
   "outputs": [],
   "source": [
    "def rosenbrock(tensor: np.array) -> np.array:\n",
    "    x, y = tensor\n",
    "    return (y - x ** 2) ** 2 + (1 - x) ** 2\n",
    "\n",
    "def rosenbrock_grad(tensor: np.array) -> np.array:\n",
    "    x, y = tensor\n",
    "    return np.array([\n",
    "        (x ** 3) - x * y + 2 * x - 2,\n",
    "        (y - x ** 2)\n",
    "    ])"
   ]
  },
  {
   "cell_type": "code",
   "execution_count": 18,
   "metadata": {},
   "outputs": [
    {
     "data": {
      "image/png": "[encoded data removed]",
      "text/plain": [
       "<Figure size 432x288 with 1 Axes>"
      ]
     },
     "metadata": {
      "needs_background": "light"
     },
     "output_type": "display_data"
    }
   ],
   "source": [
    "import matplotlib.pyplot as plt\n",
    "from matplotlib import cm\n",
    "import numpy as np\n",
    "\n",
    "\n",
    "fig = plt.figure()\n",
    "ax = fig.gca(projection='3d')\n",
    "\n",
    "ax.view_init(45, 30)\n",
    "\n",
    "# Make data.\n",
    "X = np.arange(-2, 2, 0.05)\n",
    "Y = np.arange(-2, 2, 0.05)\n",
    "X, Y = np.meshgrid(X, Y)\n",
    "Z = ((1 - X) ** 2 + (Y - (X ** 2)) ** 2) * 0.001\n",
    "\n",
    "# Plot the surface.\n",
    "surf = ax.plot_surface(X, Y, Z, cmap=cm.coolwarm, linewidth=0, antialiased=False)\n",
    "\n",
    "plt.show()"
   ]
  },
  {
   "cell_type": "code",
   "execution_count": 19,
   "metadata": {},
   "outputs": [],
   "source": [
    "class FunctionOptimizationTest:\n",
    "\n",
    "    def __init__(self, initial, func, grad):\n",
    "        self.initial = initial\n",
    "        self.func = func\n",
    "        self.grad = grad\n",
    "    \n",
    "    def test_optimizer(self, optimizer, epochs=50):\n",
    "        x = self.initial.copy()\n",
    "        \n",
    "        history_x = []\n",
    "        history_f = []\n",
    "        for i in range(epochs):\n",
    "            f = self.func(x)\n",
    "\n",
    "            history_x.append(x.copy())\n",
    "            history_f.append(f)\n",
    "\n",
    "            update = optimizer.step(x, gradient=self.grad(x))\n",
    "            x -= update\n",
    "\n",
    "        return history_f, history_x"
   ]
  },
  {
   "cell_type": "code",
   "execution_count": 20,
   "metadata": {
    "pycharm": {
     "name": "#%%\n"
    }
   },
   "outputs": [],
   "source": [
    "rosenbrock_test = FunctionOptimizationTest(\n",
    "    initial=np.array([2.5, 2.5]),\n",
    "    func=rosenbrock,\n",
    "    grad=rosenbrock_grad\n",
    ")"
   ]
  },
  {
   "cell_type": "markdown",
   "metadata": {
    "pycharm": {
     "name": "#%% md\n"
    }
   },
   "source": [
    "**Plot of norm of vector to function value**"
   ]
  },
  {
   "cell_type": "code",
   "execution_count": 21,
   "metadata": {},
   "outputs": [],
   "source": [
    "def plot_x_difference(history):\n",
    "    _, x = history\n",
    "    x_diff = np.linalg.norm(np.diff(x, axis=0), axis=1)\n",
    "    \n",
    "    plt.plot(x_diff)"
   ]
  },
  {
   "cell_type": "markdown",
   "metadata": {
    "pycharm": {
     "name": "#%% md\n"
    }
   },
   "source": [
    "**Plot of path in contour**"
   ]
  },
  {
   "cell_type": "code",
   "execution_count": 22,
   "metadata": {},
   "outputs": [],
   "source": [
    "def plot_path(history):\n",
    "    _, path = history\n",
    "    path = np.array(list(path))\n",
    "    x = np.linspace(-2, 2, 100)\n",
    "    y = np.linspace(-2, 2, 100)\n",
    "    X, Y = np.meshgrid(x, y)\n",
    "    Z = ((1 - X) ** 2 + (Y - (X ** 2)) ** 2)\n",
    "    \n",
    "    plt.figure()\n",
    "    plt.contour(X, Y, Z, np.arange(10) ** 5)\n",
    "    plt.plot(path[:, 0], path[:, 1], '-o')"
   ]
  },
  {
   "cell_type": "markdown",
   "metadata": {
    "pycharm": {
     "name": "#%% md\n"
    }
   },
   "source": [
    "**Test SGD optimizer**"
   ]
  },
  {
   "cell_type": "code",
   "execution_count": 23,
   "metadata": {
    "pycharm": {
     "name": "#%%\n"
    }
   },
   "outputs": [],
   "source": [
    "history_sgd = rosenbrock_test.test_optimizer(optimizer=SGD(lr=ConstantLearningRate(0.1)))"
   ]
  },
  {
   "cell_type": "code",
   "execution_count": 24,
   "metadata": {
    "pycharm": {
     "name": "#%%\n"
    },
    "scrolled": true
   },
   "outputs": [
    {
     "data": {
      "image/png": "[encoded data removed]",
      "text/plain": [
       "<Figure size 432x288 with 1 Axes>"
      ]
     },
     "metadata": {
      "needs_background": "light"
     },
     "output_type": "display_data"
    }
   ],
   "source": [
    "plot_x_difference(history_sgd);"
   ]
  },
  {
   "cell_type": "code",
   "execution_count": 25,
   "metadata": {
    "pycharm": {
     "name": "#%%\n"
    },
    "scrolled": true
   },
   "outputs": [
    {
     "data": {
      "image/png": "[encoded data removed]",
      "text/plain": [
       "<Figure size 432x288 with 1 Axes>"
      ]
     },
     "metadata": {
      "needs_background": "light"
     },
     "output_type": "display_data"
    }
   ],
   "source": [
    "plot_path(history_sgd);"
   ]
  },
  {
   "cell_type": "markdown",
   "metadata": {
    "pycharm": {
     "name": "#%% md\n"
    }
   },
   "source": [
    "SGD works!"
   ]
  },
  {
   "cell_type": "markdown",
   "metadata": {
    "pycharm": {
     "name": "#%% md\n"
    }
   },
   "source": [
    "**Test Adam optimizer**"
   ]
  },
  {
   "cell_type": "code",
   "execution_count": 26,
   "metadata": {
    "pycharm": {
     "name": "#%%\n"
    }
   },
   "outputs": [],
   "source": [
    "history_adam = rosenbrock_test.test_optimizer(optimizer=Adam(lr=ConstantLearningRate(0.1)))"
   ]
  }
 ],
 "metadata": {
  "kernelspec": {
   "display_name": "Python 3",
   "language": "python",
   "name": "python3"
  },
  "language_info": {
   "codemirror_mode": {
    "name": "ipython",
    "version": 3
   },
   "file_extension": ".py",
   "mimetype": "text/x-python",
   "name": "python",
   "nbconvert_exporter": "python",
   "pygments_lexer": "ipython3",
   "version": "3.7.7"
  }
 },
 "nbformat": 4,
 "nbformat_minor": 1
}